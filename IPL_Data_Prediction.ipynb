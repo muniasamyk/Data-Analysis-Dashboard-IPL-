{
 "cells": [
  {
   "cell_type": "code",
   "execution_count": 9,
   "id": "4fa5e3bb",
   "metadata": {},
   "outputs": [
    {
     "data": {
      "text/plain": [
       "0         2022\n",
       "1         2022\n",
       "2         2022\n",
       "3         2022\n",
       "4         2022\n",
       "        ...   \n",
       "945    2007/08\n",
       "946    2007/08\n",
       "947    2007/08\n",
       "948    2007/08\n",
       "949    2007/08\n",
       "Name: season, Length: 950, dtype: object"
      ]
     },
     "execution_count": 9,
     "metadata": {},
     "output_type": "execute_result"
    }
   ],
   "source": [
    "import pandas as pd\n",
    "from sklearn.ensemble import RandomForestClassifier\n",
    "from sklearn.preprocessing import LabelEncoder\n",
    "\n",
    "# 1. Load Data\n",
    "matches = pd.read_csv(r\"C:\\Users\\ms900\\OneDrive\\Desktop\\IPL_Project\\ipl_matches_2008_2022.csv\")\n",
    "balls = pd.read_csv(r\"C:\\Users\\ms900\\OneDrive\\Desktop\\IPL_Project\\ipl_ball_by_ball_2008_2022.csv\")\n",
    "matches[\"season\"]"
   ]
  },
  {
   "cell_type": "code",
   "execution_count": 20,
   "id": "ab5666e4",
   "metadata": {},
   "outputs": [],
   "source": [
    "balls = balls.merge(\n",
    "    matches[['id', 'season']],\n",
    "    how='left',\n",
    "    on='id'\n",
    ")"
   ]
  },
  {
   "cell_type": "code",
   "execution_count": 21,
   "id": "52553030",
   "metadata": {},
   "outputs": [],
   "source": [
    "def predict_orange_cap(balls):\n",
    "    season = balls['season'].max()  # Latest season\n",
    "    season_balls = balls[balls['season'] == season]\n",
    "    player_runs = season_balls.groupby('batter')['batsman_run'].sum().reset_index()\n",
    "    top = player_runs.sort_values('batsman_run', ascending=False).iloc[0]\n",
    "    return top['batter'], top['batsman_run']"
   ]
  },
  {
   "cell_type": "code",
   "execution_count": 23,
   "id": "c621aa3f",
   "metadata": {},
   "outputs": [],
   "source": [
    "# Purple Cap prediction (by latest season)\n",
    "def predict_purple_cap(balls):\n",
    "    season = balls['season'].max()\n",
    "    season_balls = balls[balls['season'] == season]\n",
    "    # Count only legitimate wickets (iswicket_delivery == 1, and player_out not null)\n",
    "    wickets = season_balls[(season_balls['iswicket_delivery'] == 1) & (season_balls['player_out'].notnull())]\n",
    "    player_wickets = wickets.groupby('bowler').size().reset_index(name='wickets')\n",
    "    top = player_wickets.sort_values('wickets', ascending=False).iloc[0]\n",
    "    return top['bowler'], top['wickets']"
   ]
  },
  {
   "cell_type": "markdown",
   "id": "372b3aa9",
   "metadata": {},
   "source": [
    "# Create a Model "
   ]
  },
  {
   "cell_type": "code",
   "execution_count": 34,
   "id": "8061e089",
   "metadata": {},
   "outputs": [],
   "source": [
    "def train_match_winner_model(matches):\n",
    "    features = ['city', 'team1', 'team2', 'venue', 'toss_winner', 'toss_decision']\n",
    "    target = 'winning_team'\n",
    "    matches = matches.dropna(subset=features + [target])\n",
    "    encoders = {}\n",
    "    for col in features + [target]:\n",
    "        encoders[col] = LabelEncoder()\n",
    "        matches[col] = encoders[col].fit_transform(matches[col].astype(str))\n",
    "    X = matches[features]\n",
    "    y = matches[target]\n",
    "    model = RandomForestClassifier(n_estimators=100, random_state=42)\n",
    "    model.fit(X, y)\n",
    "    return model, encoders"
   ]
  },
  {
   "cell_type": "code",
   "execution_count": 25,
   "id": "92045a39",
   "metadata": {},
   "outputs": [],
   "source": [
    "def predict_match_winner(model, encoders, city, team1, team2, venue, toss_winner, toss_decision):\n",
    "    input_df = pd.DataFrame({\n",
    "        'city': [city], 'team1': [team1], 'team2': [team2], 'venue': [venue], \n",
    "        'toss_winner': [toss_winner], 'toss_decision': [toss_decision]\n",
    "    })\n",
    "    for col in input_df.columns:\n",
    "        input_df[col] = encoders[col].transform(input_df[col].astype(str))\n",
    "    pred = model.predict(input_df)\n",
    "    winner = encoders['winning_team'].inverse_transform(pred)[0]\n",
    "    return winner"
   ]
  },
  {
   "cell_type": "code",
   "execution_count": 26,
   "id": "cd2fe4ad",
   "metadata": {},
   "outputs": [],
   "source": [
    "# 5. Cup Winner Prediction\n",
    "def predict_cup_winner(matches, match_model, encoders, upcoming_matches):\n",
    "    team_wins = {team: 0 for team in pd.concat([matches['team1'], matches['team2']]).unique()}\n",
    "    for m in upcoming_matches:\n",
    "        winner = predict_match_winner(match_model, encoders, *m)\n",
    "        team_wins[winner] += 1\n",
    "    past_wins = matches['winning_team'].value_counts()\n",
    "    for team, wins in past_wins.items():\n",
    "        team_wins[team] += wins\n",
    "    likely_cup_winner = max(team_wins, key=team_wins.get)\n",
    "    return likely_cup_winner, team_wins[likely_cup_winner]"
   ]
  },
  {
   "cell_type": "code",
   "execution_count": 27,
   "id": "435d84cb",
   "metadata": {},
   "outputs": [
    {
     "name": "stdout",
     "output_type": "stream",
     "text": [
      "Likely Orange Cap: JC Buttler (863 runs)\n"
     ]
    }
   ],
   "source": [
    "# Orange Cap\n",
    "orange_cap, orange_runs = predict_orange_cap(balls)\n",
    "print(f\"Likely Orange Cap: {orange_cap} ({orange_runs} runs)\")"
   ]
  },
  {
   "cell_type": "code",
   "execution_count": 30,
   "id": "e9b2d063",
   "metadata": {},
   "outputs": [
    {
     "name": "stdout",
     "output_type": "stream",
     "text": [
      "Likely Orange Cap: JC Buttler (863 runs)\n",
      "Likely Purple Cap: YS Chahal (29 wickets)\n"
     ]
    }
   ],
   "source": [
    "# Orange Cap\n",
    "orange_cap, orange_runs = predict_orange_cap(balls)\n",
    "print(f\"Likely Orange Cap: {orange_cap} ({orange_runs} runs)\")\n",
    "\n",
    "# Purple Cap\n",
    "purple_cap, purple_wickets = predict_purple_cap(balls)\n",
    "print(f\"Likely Purple Cap: {purple_cap} ({purple_wickets} wickets)\")\n",
    "\n"
   ]
  },
  {
   "cell_type": "code",
   "execution_count": 33,
   "id": "206b2250",
   "metadata": {},
   "outputs": [
    {
     "name": "stderr",
     "output_type": "stream",
     "text": [
      "C:\\Users\\ms900\\AppData\\Local\\Temp/ipykernel_26704/2807136009.py:9: SettingWithCopyWarning: \n",
      "A value is trying to be set on a copy of a slice from a DataFrame.\n",
      "Try using .loc[row_indexer,col_indexer] = value instead\n",
      "\n",
      "See the caveats in the documentation: https://pandas.pydata.org/pandas-docs/stable/user_guide/indexing.html#returning-a-view-versus-a-copy\n",
      "  matches[col] = encoders[col].fit_transform(matches[col].astype(str))\n",
      "C:\\Users\\ms900\\AppData\\Local\\Temp/ipykernel_26704/2807136009.py:9: SettingWithCopyWarning: \n",
      "A value is trying to be set on a copy of a slice from a DataFrame.\n",
      "Try using .loc[row_indexer,col_indexer] = value instead\n",
      "\n",
      "See the caveats in the documentation: https://pandas.pydata.org/pandas-docs/stable/user_guide/indexing.html#returning-a-view-versus-a-copy\n",
      "  matches[col] = encoders[col].fit_transform(matches[col].astype(str))\n",
      "C:\\Users\\ms900\\AppData\\Local\\Temp/ipykernel_26704/2807136009.py:9: SettingWithCopyWarning: \n",
      "A value is trying to be set on a copy of a slice from a DataFrame.\n",
      "Try using .loc[row_indexer,col_indexer] = value instead\n",
      "\n",
      "See the caveats in the documentation: https://pandas.pydata.org/pandas-docs/stable/user_guide/indexing.html#returning-a-view-versus-a-copy\n",
      "  matches[col] = encoders[col].fit_transform(matches[col].astype(str))\n",
      "C:\\Users\\ms900\\AppData\\Local\\Temp/ipykernel_26704/2807136009.py:9: SettingWithCopyWarning: \n",
      "A value is trying to be set on a copy of a slice from a DataFrame.\n",
      "Try using .loc[row_indexer,col_indexer] = value instead\n",
      "\n",
      "See the caveats in the documentation: https://pandas.pydata.org/pandas-docs/stable/user_guide/indexing.html#returning-a-view-versus-a-copy\n",
      "  matches[col] = encoders[col].fit_transform(matches[col].astype(str))\n",
      "C:\\Users\\ms900\\AppData\\Local\\Temp/ipykernel_26704/2807136009.py:9: SettingWithCopyWarning: \n",
      "A value is trying to be set on a copy of a slice from a DataFrame.\n",
      "Try using .loc[row_indexer,col_indexer] = value instead\n",
      "\n",
      "See the caveats in the documentation: https://pandas.pydata.org/pandas-docs/stable/user_guide/indexing.html#returning-a-view-versus-a-copy\n",
      "  matches[col] = encoders[col].fit_transform(matches[col].astype(str))\n",
      "C:\\Users\\ms900\\AppData\\Local\\Temp/ipykernel_26704/2807136009.py:9: SettingWithCopyWarning: \n",
      "A value is trying to be set on a copy of a slice from a DataFrame.\n",
      "Try using .loc[row_indexer,col_indexer] = value instead\n",
      "\n",
      "See the caveats in the documentation: https://pandas.pydata.org/pandas-docs/stable/user_guide/indexing.html#returning-a-view-versus-a-copy\n",
      "  matches[col] = encoders[col].fit_transform(matches[col].astype(str))\n",
      "C:\\Users\\ms900\\AppData\\Local\\Temp/ipykernel_26704/2807136009.py:9: SettingWithCopyWarning: \n",
      "A value is trying to be set on a copy of a slice from a DataFrame.\n",
      "Try using .loc[row_indexer,col_indexer] = value instead\n",
      "\n",
      "See the caveats in the documentation: https://pandas.pydata.org/pandas-docs/stable/user_guide/indexing.html#returning-a-view-versus-a-copy\n",
      "  matches[col] = encoders[col].fit_transform(matches[col].astype(str))\n"
     ]
    },
    {
     "name": "stdout",
     "output_type": "stream",
     "text": [
      "Predicted winner for Mumbai Indians vs Chennai Super Kings: Mumbai Indians\n",
      "Likely IPL Cup Winner: Mumbai Indians (Total Projected Wins: 132)\n"
     ]
    }
   ],
   "source": [
    "# Match Winner Model Training\n",
    "match_model, encoders = train_match_winner_model(matches)\n",
    "\n",
    "# Predict a future match (example: update with your actual upcoming matches)\n",
    "upcoming_match_details = [\n",
    "    # city, team1, team2, venue, toss_winner, toss_decision\n",
    "    ('Mumbai', 'Mumbai Indians', 'Chennai Super Kings', 'Wankhede Stadium', 'Mumbai Indians', 'bat'),\n",
    "    # Add more upcoming matches as needed\n",
    "]\n",
    "\n",
    "for match in upcoming_match_details:\n",
    "    predicted_winner = predict_match_winner(match_model, encoders, *match)\n",
    "    print(f\"Predicted winner for {match[1]} vs {match[2]}: {predicted_winner}\")\n",
    "\n",
    "# Predict likely Cup Winner\n",
    "likely_cup_winner, total_wins = predict_cup_winner(matches, match_model, encoders, upcoming_match_details)\n",
    "print(f\"Likely IPL Cup Winner: {likely_cup_winner} (Total Projected Wins: {total_wins})\")"
   ]
  },
  {
   "cell_type": "code",
   "execution_count": null,
   "id": "20c14472",
   "metadata": {},
   "outputs": [],
   "source": []
  }
 ],
 "metadata": {
  "kernelspec": {
   "display_name": "Python 3 (ipykernel)",
   "language": "python",
   "name": "python3"
  },
  "language_info": {
   "codemirror_mode": {
    "name": "ipython",
    "version": 3
   },
   "file_extension": ".py",
   "mimetype": "text/x-python",
   "name": "python",
   "nbconvert_exporter": "python",
   "pygments_lexer": "ipython3",
   "version": "3.9.7"
  }
 },
 "nbformat": 4,
 "nbformat_minor": 5
}
